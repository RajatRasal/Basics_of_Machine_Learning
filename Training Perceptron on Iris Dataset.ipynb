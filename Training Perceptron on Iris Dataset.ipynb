{
 "cells": [
  {
   "cell_type": "markdown",
   "metadata": {},
   "source": [
    "# Testing Perceptron using Iris Dataset"
   ]
  },
  {
   "cell_type": "code",
   "execution_count": 1,
   "metadata": {
    "collapsed": true
   },
   "outputs": [],
   "source": [
    "import matplotlib.pyplot as plt\n",
    "import numpy as np\n",
    "import pandas as pd"
   ]
  },
  {
   "cell_type": "code",
   "execution_count": 2,
   "metadata": {},
   "outputs": [
    {
     "data": {
      "text/html": [
       "<div>\n",
       "<style>\n",
       "    .dataframe thead tr:only-child th {\n",
       "        text-align: right;\n",
       "    }\n",
       "\n",
       "    .dataframe thead th {\n",
       "        text-align: left;\n",
       "    }\n",
       "\n",
       "    .dataframe tbody tr th {\n",
       "        vertical-align: top;\n",
       "    }\n",
       "</style>\n",
       "<table border=\"1\" class=\"dataframe\">\n",
       "  <thead>\n",
       "    <tr style=\"text-align: right;\">\n",
       "      <th></th>\n",
       "      <th>0</th>\n",
       "      <th>1</th>\n",
       "      <th>2</th>\n",
       "      <th>3</th>\n",
       "      <th>4</th>\n",
       "    </tr>\n",
       "  </thead>\n",
       "  <tbody>\n",
       "    <tr>\n",
       "      <th>145</th>\n",
       "      <td>6.7</td>\n",
       "      <td>3.0</td>\n",
       "      <td>5.2</td>\n",
       "      <td>2.3</td>\n",
       "      <td>virginica</td>\n",
       "    </tr>\n",
       "    <tr>\n",
       "      <th>146</th>\n",
       "      <td>6.3</td>\n",
       "      <td>2.5</td>\n",
       "      <td>5.0</td>\n",
       "      <td>1.9</td>\n",
       "      <td>virginica</td>\n",
       "    </tr>\n",
       "    <tr>\n",
       "      <th>147</th>\n",
       "      <td>6.5</td>\n",
       "      <td>3.0</td>\n",
       "      <td>5.2</td>\n",
       "      <td>2.0</td>\n",
       "      <td>virginica</td>\n",
       "    </tr>\n",
       "    <tr>\n",
       "      <th>148</th>\n",
       "      <td>6.2</td>\n",
       "      <td>3.4</td>\n",
       "      <td>5.4</td>\n",
       "      <td>2.3</td>\n",
       "      <td>virginica</td>\n",
       "    </tr>\n",
       "    <tr>\n",
       "      <th>149</th>\n",
       "      <td>5.9</td>\n",
       "      <td>3.0</td>\n",
       "      <td>5.1</td>\n",
       "      <td>1.8</td>\n",
       "      <td>virginica</td>\n",
       "    </tr>\n",
       "  </tbody>\n",
       "</table>\n",
       "</div>"
      ],
      "text/plain": [
       "       0    1    2    3          4\n",
       "145  6.7  3.0  5.2  2.3  virginica\n",
       "146  6.3  2.5  5.0  1.9  virginica\n",
       "147  6.5  3.0  5.2  2.0  virginica\n",
       "148  6.2  3.4  5.4  2.3  virginica\n",
       "149  5.9  3.0  5.1  1.8  virginica"
      ]
     },
     "execution_count": 2,
     "metadata": {},
     "output_type": "execute_result"
    }
   ],
   "source": [
    "# Testing whether the correct dataset is being selected. \n",
    "df = pd.read_csv('iris.data', header=None)\n",
    "df.tail()"
   ]
  },
  {
   "cell_type": "markdown",
   "metadata": {},
   "source": [
    "We are now going to get the class labels of the setosa and versicolor flowers and convert them into two integer class labels 1 (versicolor) and -1 (setosa). Of the first 100 class labels, 50 are versicolor and 50 are setosa. These will then be assigned to our target vector (y)."
   ]
  },
  {
   "cell_type": "code",
   "execution_count": 3,
   "metadata": {
    "collapsed": true
   },
   "outputs": [],
   "source": [
    "# .iloc selections - position based selection \n",
    "# data.iloc[<row selection>, <column selection>]\n",
    "y = df.iloc[0:100, 4].values\n",
    "y = np.where(y == 'setosa', -1, 1)"
   ]
  },
  {
   "cell_type": "markdown",
   "metadata": {},
   "source": [
    "We are now going to extract the sepal length and petal length of those same 100 training data records and assign them to the training matrix (x). We will then display them on a scatter graph."
   ]
  },
  {
   "cell_type": "code",
   "execution_count": 4,
   "metadata": {
    "collapsed": true
   },
   "outputs": [],
   "source": [
    "# extract sepal length and petal length columns\n",
    "x = df.iloc[0:100, [0, 2]].values"
   ]
  },
  {
   "cell_type": "code",
   "execution_count": 5,
   "metadata": {},
   "outputs": [
    {
     "data": {
      "image/png": "[encoded data removed]",
      "text/plain": [
       "<matplotlib.figure.Figure at 0x1079fb320>"
      ]
     },
     "metadata": {},
     "output_type": "display_data"
    }
   ],
   "source": [
    "# plot data \n",
    "fig = plt.figure()\n",
    "fig.suptitle(\"\"\"Distribution of flowers with regards to petal length and sepal length\\n\"\"\")\n",
    "plt.scatter(x[:50, 0], x[:50, 1], color='red',\n",
    "            marker='o', label='setosa')\n",
    "plt.scatter(x[50:100, 0], x[50:100, 1],\n",
    "           color='blue', marker='x', label='versicolor')\n",
    "plt.xlabel('sepal length [cm]')\n",
    "plt.ylabel('petal length [cm]')\n",
    "plt.legend(loc='upper left')\n",
    "plt.show()"
   ]
  },
  {
   "cell_type": "markdown",
   "metadata": {},
   "source": [
    "We can clearly see that the setosa and the versicolor flowers can be differentiated with a linear decision boundary purely based upon their petal and sepal lengths. This makes hem ideal for a perceptron to classify between, as this is a linear classifier."
   ]
  },
  {
   "cell_type": "markdown",
   "metadata": {},
   "source": [
    "# Training the Perceptron on Iris Data"
   ]
  },
  {
   "cell_type": "code",
   "execution_count": 6,
   "metadata": {},
   "outputs": [
    {
     "data": {
      "image/png": "[encoded data removed]",
      "text/plain": [
       "<matplotlib.figure.Figure at 0x1079b6ef0>"
      ]
     },
     "metadata": {},
     "output_type": "display_data"
    }
   ],
   "source": [
    "from Perceptron import Perceptron\n",
    "ppn = Perceptron(rate=0.1, iterations=10, random_gen_seed=1)\n",
    "\n",
    "ppn.fit(x, y)\n",
    "fig = plt.figure()\n",
    "fig.suptitle(\"Number of misclassifications over each epoch\")\n",
    "plt.plot(range(1, len(ppn.errors) + 1), ppn.errors, marker='o')\n",
    "plt.xlabel('Epochs')\n",
    "plt.ylabel('Number of updates / errors')\n",
    "plt.show()"
   ]
  },
  {
   "cell_type": "markdown",
   "metadata": {},
   "source": [
    "We can see that the perceptron has been trained on the dataset given to it. Initially there were more misclassifications (incorrect net_inputs), but as we changed the weight vector based on each incorrect prediction, there were fewer errors."
   ]
  },
  {
   "cell_type": "markdown",
   "metadata": {},
   "source": [
    "We can now plot another graph to visualise the linear decision boundaries more clearly."
   ]
  },
  {
   "cell_type": "code",
   "execution_count": 17,
   "metadata": {},
   "outputs": [],
   "source": [
    "from matplotlib.colors import ListedColormap\n",
    "\n",
    "def create_linear_decision_boundary_plot(x, y, classifier, resolution=0.02):\n",
    "    markers = ('s', 'x', 'o', '^', 'v')\n",
    "    colors = ('red', 'blue', 'lightgreen', 'gray', 'cyan')\n",
    "    print(colors[:len(np.unique(y))])\n",
    "    print(np.unique(y))\n",
    "    # We get the number of unique object from the target array (y) and then\n",
    "    # select that many items from the front of the colors tuple.\n",
    "    # e.g. If y only consists of -1 and 1 (in the case of our simple perceptron)\n",
    "    # we will be selecting ('red', 'blue') from the colors tuple using the array \n",
    "    # slice notation\n",
    "    selected_colors = colors[:len(np.unique(y))]\n",
    "    \n",
    "    # Color map instance\n",
    "    color_map = ListedColormap(selected_colors)\n",
    "    \n",
    "    # plot the decision surfaces\n",
    "    # x[:, 0] gets the 0th column value of every row in the matrix x\n",
    "    x1_min, x1_max = x[:, 0].min() - 1, x[:, 0].max() + 1\n",
    "    x2_min, x2_max = x[:, 1].min() - 1, x[:, 1].max() + 1\n",
    "    \n",
    "    # We find the minimum and maximum values for 2 features in the table of \n",
    "    # results in the Iris dataset. We use those vectors of features to create\n",
    "    # a pair of grid arrays using meshgrid. \n",
    "    xx1, xx2 = np.meshgrid(np.arange(x1_min, x1_max, resolution),\n",
    "                          np.arange(x2_min, x2_max, resolution))\n",
    "    # print(xx1)\n",
    "    # print(xx2)\n",
    "    \n",
    "    # We had trained the perceptron on 2 features in the ppn.fit() call above.\n",
    "    # We need to flatten these 2 arrays into a matrix of the same columns as the \n",
    "    # original Iris dataset so that when we call 'predict' on this, we will \n",
    "    # get the class labels of each data point in the matrix.\n",
    "    z = classifier.predict(np.array([xx1.ravel(), xx2.ravel()]).T)\n",
    "    z = z.reshape(xx1.shape)\n",
    "    \n",
    "    # We then plot the predicted data points w.r.t to the xx1 and xx2 columns in the dataset.\n",
    "    plt.contourf(xx1, xx2, z, alpha=0.3, cmap=color_map)\n",
    "    plt.xlim(xx1.min(), xx1.max())\n",
    "    plt.ylim(xx2.min(), xx2.max())\n",
    "    \n",
    "    # plot class samples\n",
    "    for idx, c1 in enumerate(np.unique(y)):\n",
    "        plt.scatter(x[y == c1, 0], x[y == c1, 1], alpha=0.8,\n",
    "                   c=colors[idx], marker=markers[idx], label=c1, edgecolor='black')"
   ]
  },
  {
   "cell_type": "code",
   "execution_count": 19,
   "metadata": {},
   "outputs": [
    {
     "name": "stdout",
     "output_type": "stream",
     "text": [
      "('red', 'blue')\n",
      "[-1  1]\n",
      "[[ 3.3   3.32  3.34 ...,  7.94  7.96  7.98]\n",
      " [ 3.3   3.32  3.34 ...,  7.94  7.96  7.98]\n",
      " [ 3.3   3.32  3.34 ...,  7.94  7.96  7.98]\n",
      " ..., \n",
      " [ 3.3   3.32  3.34 ...,  7.94  7.96  7.98]\n",
      " [ 3.3   3.32  3.34 ...,  7.94  7.96  7.98]\n",
      " [ 3.3   3.32  3.34 ...,  7.94  7.96  7.98]]\n",
      "[[ 0.    0.    0.   ...,  0.    0.    0.  ]\n",
      " [ 0.02  0.02  0.02 ...,  0.02  0.02  0.02]\n",
      " [ 0.04  0.04  0.04 ...,  0.04  0.04  0.04]\n",
      " ..., \n",
      " [ 6.04  6.04  6.04 ...,  6.04  6.04  6.04]\n",
      " [ 6.06  6.06  6.06 ...,  6.06  6.06  6.06]\n",
      " [ 6.08  6.08  6.08 ...,  6.08  6.08  6.08]]\n"
     ]
    },
    {
     "data": {
      "image/png": "[encoded data removed]",
      "text/plain": [
       "<matplotlib.figure.Figure at 0x1101cf6d8>"
      ]
     },
     "metadata": {},
     "output_type": "display_data"
    },
    {
     "data": {
      "image/png": "[encoded data removed]",
      "text/plain": [
       "<matplotlib.figure.Figure at 0x110616240>"
      ]
     },
     "metadata": {},
     "output_type": "display_data"
    }
   ],
   "source": [
    "# Making the predictions, preparing the data and plotting it.\n",
    "create_linear_decision_boundary_plot(x, y, classifier=ppn)\n",
    "plt.xlabel('sepal length [cm]')\n",
    "plt.ylabel('petal length [cm]')\n",
    "plt.legend(loc='upper left')\n",
    "plt.show()"
   ]
  },
  {
   "cell_type": "code",
   "execution_count": null,
   "metadata": {
    "collapsed": true
   },
   "outputs": [],
   "source": [
    "0"
   ]
  }
 ],
 "metadata": {
  "kernelspec": {
   "display_name": "Python 3",
   "language": "python",
   "name": "python3"
  },
  "language_info": {
   "codemirror_mode": {
    "name": "ipython",
    "version": 3
   },
   "file_extension": ".py",
   "mimetype": "text/x-python",
   "name": "python",
   "nbconvert_exporter": "python",
   "pygments_lexer": "ipython3",
   "version": "3.6.3"
  }
 },
 "nbformat": 4,
 "nbformat_minor": 2
}
